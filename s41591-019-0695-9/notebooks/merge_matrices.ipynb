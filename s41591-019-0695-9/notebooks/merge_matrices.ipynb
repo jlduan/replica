{
 "cells": [
  {
   "cell_type": "code",
   "execution_count": null,
   "metadata": {},
   "outputs": [],
   "source": []
  },
  {
   "cell_type": "code",
   "execution_count": 1,
   "metadata": {},
   "outputs": [
    {
     "name": "stdout",
     "output_type": "stream",
     "text": [
      "Tue Jul 21 13:14:05 CDT 2020\n"
     ]
    }
   ],
   "source": [
    "! date"
   ]
  },
  {
   "cell_type": "code",
   "execution_count": 2,
   "metadata": {},
   "outputs": [],
   "source": [
    "import sys\n",
    "sys.path.append('/Users/jialei/Dropbox/Data/Projects/UTSW/Scripts/utilities')\n",
    "\n",
    "import re\n",
    "from pathlib import Path\n",
    "\n",
    "import numpy as np\n",
    "import pandas as pd\n",
    "import scipy.sparse\n",
    "\n",
    "import matplotlib.pyplot as plt\n",
    "from matplotlib import __version__ as mpl_version\n",
    "\n",
    "import seaborn as sns"
   ]
  },
  {
   "cell_type": "code",
   "execution_count": 3,
   "metadata": {},
   "outputs": [
    {
     "name": "stdout",
     "output_type": "stream",
     "text": [
      "3.8.2 (default, May 23 2020, 03:35:41) \n",
      "[Clang 11.0.3 (clang-1103.0.32.62)]\n",
      "numpy 1.19.0\n",
      "pandas 1.0.5\n",
      "matplotlib 3.2.2\n",
      "seaborn 0.10.1\n"
     ]
    }
   ],
   "source": [
    "print(sys.version)\n",
    "print('numpy', np.__version__)\n",
    "print('pandas', pd.__version__)\n",
    "print('matplotlib', mpl_version)\n",
    "print('seaborn', sns.__version__)"
   ]
  },
  {
   "cell_type": "code",
   "execution_count": 4,
   "metadata": {},
   "outputs": [],
   "source": [
    "# mpl.rcParams.update(mpl.rcParamsDefault)\n",
    "# plt.rcParams\n",
    "\n",
    "params = {'pdf.fonttype': 42,\n",
    "          'font.family': 'sans-serif',\n",
    "          'font.sans-serif': 'Arial',\n",
    "          'mathtext.default': 'regular',\n",
    "          'figure.dpi': 96 * 1.5,\n",
    "          'axes.axisbelow': True}\n",
    "plt.rcParams.update(params)\n",
    "\n",
    "%config InlineBackend.figure_format = 'retina'"
   ]
  },
  {
   "cell_type": "code",
   "execution_count": 5,
   "metadata": {},
   "outputs": [
    {
     "name": "stdout",
     "output_type": "stream",
     "text": [
      "umap 0.4.6\n",
      "phate 1.0.4\n"
     ]
    }
   ],
   "source": [
    "import umap\n",
    "import phate\n",
    "from fast_tsne import fast_tsne\n",
    "\n",
    "print('umap', umap.__version__)\n",
    "print('phate', phate.__version__)"
   ]
  },
  {
   "cell_type": "code",
   "execution_count": 6,
   "metadata": {},
   "outputs": [
    {
     "name": "stdout",
     "output_type": "stream",
     "text": [
      "scanpy 1.5.1\n"
     ]
    }
   ],
   "source": [
    "# sc.logging.print_versions()\n",
    "import scanpy as sc\n",
    "import harmonypy as hm\n",
    "\n",
    "print('scanpy', sc.__version__)"
   ]
  },
  {
   "cell_type": "code",
   "execution_count": 7,
   "metadata": {},
   "outputs": [],
   "source": [
    "from utilities import (\n",
    "    open_file,\n",
    "    read_10x_matrix,\n",
    ")"
   ]
  },
  {
   "cell_type": "code",
   "execution_count": null,
   "metadata": {},
   "outputs": [],
   "source": []
  },
  {
   "cell_type": "markdown",
   "metadata": {},
   "source": [
    "# Data loading"
   ]
  },
  {
   "cell_type": "markdown",
   "metadata": {},
   "source": [
    "## Loading matrices"
   ]
  },
  {
   "cell_type": "code",
   "execution_count": 8,
   "metadata": {},
   "outputs": [],
   "source": [
    "def load_10x_matrix(data_dir,\n",
    "                    cell_id_prefix,\n",
    "                    cells_included_file=None):\n",
    "\n",
    "    matrix_dir = data_dir / cell_id_prefix / 'filtered_feature_bc_matrix'\n",
    "\n",
    "    matrix_readcount_raw = read_10x_matrix(\n",
    "        data_directory=matrix_dir,\n",
    "        cell_id_prefix=cell_id_prefix,\n",
    "        features_selected='Gene Expression',\n",
    "    )\n",
    "\n",
    "    # select cells\n",
    "    if cells_included_file:\n",
    "\n",
    "        cells_included_file = data_dir / cell_id_prefix / cells_included_file\n",
    "\n",
    "        if cell_id_prefix:\n",
    "            cells_included = [cell_id_prefix + '_' + i.rstrip().replace('-1', '')\n",
    "                              for i in open(file=cells_included_file, mode='r')]\n",
    "\n",
    "        else:\n",
    "            cells_included = [i.rstrip().replace('-1', '')\n",
    "                              for i in open(file=cells_included_file, mode='r')]\n",
    "\n",
    "        cells_included_idx, = np.where(\n",
    "            np.isin(\n",
    "                element=matrix_readcount_raw['barcodes'],\n",
    "                test_elements=cells_included\n",
    "            )\n",
    "        )\n",
    "\n",
    "        matrix_readcount_raw['matrix'] = \\\n",
    "            matrix_readcount_raw['matrix'][:, cells_included_idx]\n",
    "        matrix_readcount_raw['barcodes'] = \\\n",
    "            matrix_readcount_raw['barcodes'][cells_included_idx]\n",
    "\n",
    "    return matrix_readcount_raw"
   ]
  },
  {
   "cell_type": "code",
   "execution_count": 9,
   "metadata": {},
   "outputs": [],
   "source": [
    "DATA_DIR = Path('../../../../raw/public/PRJNA590042/')"
   ]
  },
  {
   "cell_type": "code",
   "execution_count": null,
   "metadata": {},
   "outputs": [],
   "source": []
  },
  {
   "cell_type": "code",
   "execution_count": 10,
   "metadata": {},
   "outputs": [],
   "source": [
    "matrix_readcount_SRR10480618_raw = load_10x_matrix(\n",
    "    data_dir=DATA_DIR,\n",
    "    cell_id_prefix='SRR10480618',\n",
    "    cells_included_file='scrublet/cells_singlet_zscore_0.2615472081423963_9924.txt'\n",
    ")\n",
    "\n",
    "matrix_readcount_SRR10480619_raw = load_10x_matrix(\n",
    "    data_dir=DATA_DIR,\n",
    "    cell_id_prefix='SRR10480619',\n",
    "    cells_included_file='scrublet/cells_singlet_zscore_0.14953131559262767_6731.txt'\n",
    ")\n",
    "\n",
    "matrix_readcount_SRR10480620_raw = load_10x_matrix(\n",
    "    data_dir=DATA_DIR,\n",
    "    cell_id_prefix='SRR10480620',\n",
    "    cells_included_file='scrublet/cells_singlet_zscore_0.2122883436324782_7924.txt'\n",
    ")"
   ]
  },
  {
   "cell_type": "code",
   "execution_count": 11,
   "metadata": {},
   "outputs": [],
   "source": [
    "matrix_readcount_SRR10480621_raw = load_10x_matrix(\n",
    "    data_dir=DATA_DIR,\n",
    "    cell_id_prefix='SRR10480621',\n",
    "    cells_included_file='scrublet/cells_singlet_zscore_0.19209298564488517_7185.txt'\n",
    ")\n",
    "\n",
    "matrix_readcount_SRR10480622_raw = load_10x_matrix(\n",
    "    data_dir=DATA_DIR,\n",
    "    cell_id_prefix='SRR10480622',\n",
    "    cells_included_file='scrublet/cells_singlet_zscore_0.24142494126450012_8058.txt'\n",
    ")\n",
    "\n",
    "matrix_readcount_SRR10480623_raw = load_10x_matrix(\n",
    "    data_dir=DATA_DIR,\n",
    "    cell_id_prefix='SRR10480623',\n",
    "    cells_included_file='scrublet/cells_singlet_zscore_0.204498508508924_8067.txt'\n",
    ")"
   ]
  },
  {
   "cell_type": "code",
   "execution_count": 12,
   "metadata": {},
   "outputs": [],
   "source": [
    "matrix_readcount_SRR10480624_raw = load_10x_matrix(\n",
    "    data_dir=DATA_DIR,\n",
    "    cell_id_prefix='SRR10480624',\n",
    "    cells_included_file='scrublet/cells_singlet_zscore_0.20978477336625417_7549.txt'\n",
    ")\n",
    "\n",
    "matrix_readcount_SRR10480625_raw = load_10x_matrix(\n",
    "    data_dir=DATA_DIR,\n",
    "    cell_id_prefix='SRR10480625',\n",
    "    cells_included_file='scrublet/cells_singlet_zscore_0.15640952419887_5104.txt'\n",
    ")\n",
    "\n",
    "matrix_readcount_SRR10480626_raw = load_10x_matrix(\n",
    "    data_dir=DATA_DIR,\n",
    "    cell_id_prefix='SRR10480626',\n",
    "    cells_included_file='scrublet/cells_singlet_zscore_0.2328860641666534_8543.txt'\n",
    ")"
   ]
  },
  {
   "cell_type": "code",
   "execution_count": 13,
   "metadata": {},
   "outputs": [],
   "source": [
    "matrix_readcount_SRR10480627_raw = load_10x_matrix(\n",
    "    data_dir=DATA_DIR,\n",
    "    cell_id_prefix='SRR10480627',\n",
    "    cells_included_file='scrublet/cells_singlet_zscore_0.17710722410188123_6877.txt'\n",
    ")\n",
    "\n",
    "matrix_readcount_SRR10480628_raw = load_10x_matrix(\n",
    "    data_dir=DATA_DIR,\n",
    "    cell_id_prefix='SRR10480628',\n",
    "    cells_included_file='scrublet/cells_singlet_zscore_0.2295345754903297_8009.txt'\n",
    ")\n",
    "\n",
    "matrix_readcount_SRR10480629_raw = load_10x_matrix(\n",
    "    data_dir=DATA_DIR,\n",
    "    cell_id_prefix='SRR10480629',\n",
    "    cells_included_file='scrublet/cells_singlet_zscore_0.19330448619270987_6621.txt'\n",
    ")"
   ]
  },
  {
   "cell_type": "code",
   "execution_count": null,
   "metadata": {},
   "outputs": [],
   "source": []
  },
  {
   "cell_type": "markdown",
   "metadata": {},
   "source": [
    "## Merging matrices"
   ]
  },
  {
   "cell_type": "code",
   "execution_count": 14,
   "metadata": {},
   "outputs": [
    {
     "data": {
      "text/plain": [
       "<27998x90592 sparse matrix of type '<class 'numpy.int64'>'\n",
       "\twith 280297797 stored elements in Compressed Sparse Column format>"
      ]
     },
     "execution_count": 14,
     "metadata": {},
     "output_type": "execute_result"
    }
   ],
   "source": [
    "# merge\n",
    "matrix_readcount_use = scipy.sparse.hstack(\n",
    "    blocks=(\n",
    "        matrix_readcount_SRR10480618_raw['matrix'],\n",
    "        matrix_readcount_SRR10480619_raw['matrix'],\n",
    "        matrix_readcount_SRR10480620_raw['matrix'],\n",
    "\n",
    "        matrix_readcount_SRR10480621_raw['matrix'],\n",
    "        matrix_readcount_SRR10480622_raw['matrix'],\n",
    "        matrix_readcount_SRR10480623_raw['matrix'],\n",
    "\n",
    "        matrix_readcount_SRR10480624_raw['matrix'],\n",
    "        matrix_readcount_SRR10480625_raw['matrix'],\n",
    "        matrix_readcount_SRR10480626_raw['matrix'],\n",
    "\n",
    "        matrix_readcount_SRR10480627_raw['matrix'],\n",
    "        matrix_readcount_SRR10480628_raw['matrix'],\n",
    "        matrix_readcount_SRR10480629_raw['matrix']\n",
    "    ),\n",
    "    format=None, dtype=np.int).tocsc()\n",
    "\n",
    "matrix_readcount_use_barcodes = np.concatenate(\n",
    "    (\n",
    "        matrix_readcount_SRR10480618_raw['barcodes'],\n",
    "        matrix_readcount_SRR10480619_raw['barcodes'],\n",
    "        matrix_readcount_SRR10480620_raw['barcodes'],\n",
    "\n",
    "        matrix_readcount_SRR10480621_raw['barcodes'],\n",
    "        matrix_readcount_SRR10480622_raw['barcodes'],\n",
    "        matrix_readcount_SRR10480623_raw['barcodes'],\n",
    "\n",
    "        matrix_readcount_SRR10480624_raw['barcodes'],\n",
    "        matrix_readcount_SRR10480625_raw['barcodes'],\n",
    "        matrix_readcount_SRR10480626_raw['barcodes'],\n",
    "\n",
    "        matrix_readcount_SRR10480627_raw['barcodes'],\n",
    "        matrix_readcount_SRR10480628_raw['barcodes'],\n",
    "        matrix_readcount_SRR10480629_raw['barcodes']\n",
    "    ), axis=0)\n",
    "\n",
    "matrix_readcount_use = \\\n",
    "    matrix_readcount_use[:, np.argsort(a=matrix_readcount_use_barcodes)]\n",
    "matrix_readcount_use_barcodes = matrix_readcount_use_barcodes[np.argsort(\n",
    "    a=matrix_readcount_use_barcodes)]\n",
    "\n",
    "matrix_readcount_use"
   ]
  },
  {
   "cell_type": "code",
   "execution_count": 15,
   "metadata": {},
   "outputs": [
    {
     "data": {
      "text/plain": [
       "27998"
      ]
     },
     "execution_count": 15,
     "metadata": {},
     "output_type": "execute_result"
    }
   ],
   "source": [
    "matrix_readcount_use_features = matrix_readcount_SRR10480618_raw['features']\n",
    "sum(matrix_readcount_SRR10480618_raw['features'] ==\n",
    "    matrix_readcount_SRR10480619_raw['features'])"
   ]
  },
  {
   "cell_type": "markdown",
   "metadata": {},
   "source": [
    "## Saving matrix"
   ]
  },
  {
   "cell_type": "code",
   "execution_count": 16,
   "metadata": {},
   "outputs": [],
   "source": [
    "Path('raw').mkdir(parents=True, exist_ok=True)\n",
    "\n",
    "if not Path('raw/matrix_readcount.npz').is_file():\n",
    "    scipy.sparse.save_npz(\n",
    "        file='raw/matrix_readcount.npz',\n",
    "        matrix=matrix_readcount_use,\n",
    "        compressed=True\n",
    "    )\n",
    "\n",
    "if not Path('raw/matrix_readcount_barcodes.npy').is_file():\n",
    "    np.save(\n",
    "        file='raw/matrix_readcount_barcodes.npy',\n",
    "        arr=matrix_readcount_use_barcodes.astype(dtype=np.unicode_),\n",
    "        allow_pickle=False\n",
    "    )\n",
    "\n",
    "if not Path('raw/matrix_readcount_features.npy').is_file():\n",
    "    np.save(\n",
    "        file='raw/matrix_readcount_features.npy',\n",
    "        arr=matrix_readcount_use_features.astype(dtype=np.unicode_),\n",
    "        allow_pickle=False\n",
    "    )"
   ]
  },
  {
   "cell_type": "code",
   "execution_count": null,
   "metadata": {},
   "outputs": [],
   "source": []
  },
  {
   "cell_type": "markdown",
   "metadata": {},
   "source": [
    "# Preprocessing"
   ]
  },
  {
   "cell_type": "code",
   "execution_count": null,
   "metadata": {},
   "outputs": [],
   "source": []
  },
  {
   "cell_type": "markdown",
   "metadata": {},
   "source": [
    "## Reloading merged matrix"
   ]
  },
  {
   "cell_type": "code",
   "execution_count": 17,
   "metadata": {},
   "outputs": [],
   "source": [
    "DATA_DIR = Path('raw')"
   ]
  },
  {
   "cell_type": "code",
   "execution_count": 18,
   "metadata": {},
   "outputs": [],
   "source": [
    "matrix_readcount_use = scipy.sparse.load_npz(\n",
    "    file=DATA_DIR / 'matrix_readcount.npz')\n",
    "\n",
    "matrix_readcount_use_barcodes = np.load(\n",
    "    file=DATA_DIR / 'matrix_readcount_barcodes.npy')\n",
    "\n",
    "matrix_readcount_use_features = np.load(\n",
    "    file=DATA_DIR / 'matrix_readcount_features.npy')"
   ]
  },
  {
   "cell_type": "code",
   "execution_count": 19,
   "metadata": {},
   "outputs": [
    {
     "data": {
      "text/plain": [
       "<27998x90592 sparse matrix of type '<class 'numpy.int64'>'\n",
       "\twith 280297797 stored elements in Compressed Sparse Column format>"
      ]
     },
     "execution_count": 19,
     "metadata": {},
     "output_type": "execute_result"
    }
   ],
   "source": [
    "matrix_readcount_use"
   ]
  },
  {
   "cell_type": "code",
   "execution_count": null,
   "metadata": {},
   "outputs": [],
   "source": []
  },
  {
   "cell_type": "markdown",
   "metadata": {},
   "source": [
    "## MT UMI distribution"
   ]
  },
  {
   "cell_type": "code",
   "execution_count": 20,
   "metadata": {},
   "outputs": [
    {
     "data": {
      "text/plain": [
       "AnnData object with n_obs × n_vars = 90592 × 27998\n",
       "    obs: 'cell', 'batch'\n",
       "    var: 'feature'"
      ]
     },
     "execution_count": 20,
     "metadata": {},
     "output_type": "execute_result"
    }
   ],
   "source": [
    "# create anndata object\n",
    "adata = sc.AnnData(X=matrix_readcount_use.astype(dtype=np.int).T,\n",
    "                   obs={'cell': matrix_readcount_use_barcodes,\n",
    "                        'batch': [re.sub('_[A-Z]{16}$', '', i)\n",
    "                                  for i in matrix_readcount_use_barcodes]},\n",
    "                   var={'feature': matrix_readcount_use_features})\n",
    "\n",
    "adata.obs.index = adata.obs['cell']\n",
    "adata.var.index = adata.var['feature']\n",
    "\n",
    "adata"
   ]
  },
  {
   "cell_type": "code",
   "execution_count": 21,
   "metadata": {},
   "outputs": [
    {
     "data": {
      "text/html": [
       "<div>\n",
       "<style scoped>\n",
       "    .dataframe tbody tr th:only-of-type {\n",
       "        vertical-align: middle;\n",
       "    }\n",
       "\n",
       "    .dataframe tbody tr th {\n",
       "        vertical-align: top;\n",
       "    }\n",
       "\n",
       "    .dataframe thead th {\n",
       "        text-align: right;\n",
       "    }\n",
       "</style>\n",
       "<table border=\"1\" class=\"dataframe\">\n",
       "  <thead>\n",
       "    <tr style=\"text-align: right;\">\n",
       "      <th></th>\n",
       "      <th>feature</th>\n",
       "      <th>symbol</th>\n",
       "    </tr>\n",
       "    <tr>\n",
       "      <th>feature</th>\n",
       "      <th></th>\n",
       "      <th></th>\n",
       "    </tr>\n",
       "  </thead>\n",
       "  <tbody>\n",
       "    <tr>\n",
       "      <th>ENSMUSG00000051951_Xkr4</th>\n",
       "      <td>ENSMUSG00000051951_Xkr4</td>\n",
       "      <td>Xkr4</td>\n",
       "    </tr>\n",
       "    <tr>\n",
       "      <th>ENSMUSG00000089699_Gm1992</th>\n",
       "      <td>ENSMUSG00000089699_Gm1992</td>\n",
       "      <td>Gm1992</td>\n",
       "    </tr>\n",
       "    <tr>\n",
       "      <th>ENSMUSG00000102343_Gm37381</th>\n",
       "      <td>ENSMUSG00000102343_Gm37381</td>\n",
       "      <td>Gm37381</td>\n",
       "    </tr>\n",
       "    <tr>\n",
       "      <th>ENSMUSG00000025900_Rp1</th>\n",
       "      <td>ENSMUSG00000025900_Rp1</td>\n",
       "      <td>Rp1</td>\n",
       "    </tr>\n",
       "    <tr>\n",
       "      <th>ENSMUSG00000109048_Rp1</th>\n",
       "      <td>ENSMUSG00000109048_Rp1</td>\n",
       "      <td>Rp1</td>\n",
       "    </tr>\n",
       "  </tbody>\n",
       "</table>\n",
       "</div>"
      ],
      "text/plain": [
       "                                               feature   symbol\n",
       "feature                                                        \n",
       "ENSMUSG00000051951_Xkr4        ENSMUSG00000051951_Xkr4     Xkr4\n",
       "ENSMUSG00000089699_Gm1992    ENSMUSG00000089699_Gm1992   Gm1992\n",
       "ENSMUSG00000102343_Gm37381  ENSMUSG00000102343_Gm37381  Gm37381\n",
       "ENSMUSG00000025900_Rp1          ENSMUSG00000025900_Rp1      Rp1\n",
       "ENSMUSG00000109048_Rp1          ENSMUSG00000109048_Rp1      Rp1"
      ]
     },
     "execution_count": 21,
     "metadata": {},
     "output_type": "execute_result"
    }
   ],
   "source": [
    "adata.var['symbol'] = [re.sub('^E[A-Z]{1,}[0-9]{11}_', '', i)\n",
    "                       for i in adata.var['feature']]\n",
    "adata.var.head()"
   ]
  },
  {
   "cell_type": "code",
   "execution_count": 22,
   "metadata": {},
   "outputs": [
    {
     "data": {
      "text/html": [
       "<div>\n",
       "<style scoped>\n",
       "    .dataframe tbody tr th:only-of-type {\n",
       "        vertical-align: middle;\n",
       "    }\n",
       "\n",
       "    .dataframe tbody tr th {\n",
       "        vertical-align: top;\n",
       "    }\n",
       "\n",
       "    .dataframe thead th {\n",
       "        text-align: right;\n",
       "    }\n",
       "</style>\n",
       "<table border=\"1\" class=\"dataframe\">\n",
       "  <thead>\n",
       "    <tr style=\"text-align: right;\">\n",
       "      <th></th>\n",
       "      <th>cell</th>\n",
       "      <th>batch</th>\n",
       "      <th>num_umis</th>\n",
       "      <th>num_features</th>\n",
       "      <th>num_umis_mt</th>\n",
       "    </tr>\n",
       "    <tr>\n",
       "      <th>cell</th>\n",
       "      <th></th>\n",
       "      <th></th>\n",
       "      <th></th>\n",
       "      <th></th>\n",
       "      <th></th>\n",
       "    </tr>\n",
       "  </thead>\n",
       "  <tbody>\n",
       "    <tr>\n",
       "      <th>SRR10480618_AAACCTGAGAATGTGT</th>\n",
       "      <td>SRR10480618_AAACCTGAGAATGTGT</td>\n",
       "      <td>SRR10480618</td>\n",
       "      <td>16741</td>\n",
       "      <td>4690</td>\n",
       "      <td>9</td>\n",
       "    </tr>\n",
       "    <tr>\n",
       "      <th>SRR10480618_AAACCTGAGATATGGT</th>\n",
       "      <td>SRR10480618_AAACCTGAGATATGGT</td>\n",
       "      <td>SRR10480618</td>\n",
       "      <td>8125</td>\n",
       "      <td>3295</td>\n",
       "      <td>2</td>\n",
       "    </tr>\n",
       "    <tr>\n",
       "      <th>SRR10480618_AAACCTGAGATCCCAT</th>\n",
       "      <td>SRR10480618_AAACCTGAGATCCCAT</td>\n",
       "      <td>SRR10480618</td>\n",
       "      <td>960</td>\n",
       "      <td>680</td>\n",
       "      <td>1</td>\n",
       "    </tr>\n",
       "    <tr>\n",
       "      <th>SRR10480618_AAACCTGAGATGTGGC</th>\n",
       "      <td>SRR10480618_AAACCTGAGATGTGGC</td>\n",
       "      <td>SRR10480618</td>\n",
       "      <td>7263</td>\n",
       "      <td>3174</td>\n",
       "      <td>1</td>\n",
       "    </tr>\n",
       "    <tr>\n",
       "      <th>SRR10480618_AAACCTGAGCAATCTC</th>\n",
       "      <td>SRR10480618_AAACCTGAGCAATCTC</td>\n",
       "      <td>SRR10480618</td>\n",
       "      <td>52901</td>\n",
       "      <td>7332</td>\n",
       "      <td>11</td>\n",
       "    </tr>\n",
       "  </tbody>\n",
       "</table>\n",
       "</div>"
      ],
      "text/plain": [
       "                                                      cell        batch  \\\n",
       "cell                                                                      \n",
       "SRR10480618_AAACCTGAGAATGTGT  SRR10480618_AAACCTGAGAATGTGT  SRR10480618   \n",
       "SRR10480618_AAACCTGAGATATGGT  SRR10480618_AAACCTGAGATATGGT  SRR10480618   \n",
       "SRR10480618_AAACCTGAGATCCCAT  SRR10480618_AAACCTGAGATCCCAT  SRR10480618   \n",
       "SRR10480618_AAACCTGAGATGTGGC  SRR10480618_AAACCTGAGATGTGGC  SRR10480618   \n",
       "SRR10480618_AAACCTGAGCAATCTC  SRR10480618_AAACCTGAGCAATCTC  SRR10480618   \n",
       "\n",
       "                              num_umis  num_features  num_umis_mt  \n",
       "cell                                                               \n",
       "SRR10480618_AAACCTGAGAATGTGT     16741          4690            9  \n",
       "SRR10480618_AAACCTGAGATATGGT      8125          3295            2  \n",
       "SRR10480618_AAACCTGAGATCCCAT       960           680            1  \n",
       "SRR10480618_AAACCTGAGATGTGGC      7263          3174            1  \n",
       "SRR10480618_AAACCTGAGCAATCTC     52901          7332           11  "
      ]
     },
     "execution_count": 22,
     "metadata": {},
     "output_type": "execute_result"
    }
   ],
   "source": [
    "adata.obs['num_umis'] = adata.X.sum(axis=1).A1.astype(dtype=np.int)\n",
    "adata.obs['num_features'] = (adata.X > 0).sum(axis=1).A1\n",
    "adata.obs['num_umis_mt'] = adata[:, [i.upper().startswith('MT-')\n",
    "                                     for i in adata.var.symbol]].X.sum(axis=1).A1.astype(dtype=np.int)\n",
    "adata.obs.head()"
   ]
  },
  {
   "cell_type": "code",
   "execution_count": 23,
   "metadata": {},
   "outputs": [
    {
     "data": {
      "text/plain": [
       "Text(0, 0.5, 'Number of cells')"
      ]
     },
     "execution_count": 23,
     "metadata": {},
     "output_type": "execute_result"
    },
    {
     "data": {
      "image/png": "[encoded data removed]",
      "text/plain": [
       "<Figure size 576x432 with 1 Axes>"
      ]
     },
     "metadata": {
      "image/png": {
       "height": 404,
       "width": 568
      },
      "needs_background": "light"
     },
     "output_type": "display_data"
    }
   ],
   "source": [
    "fig, ax = plt.subplots(nrows=1, ncols=1, figsize=(4 * 1, 3 * 1))\n",
    "\n",
    "ax.hist(\n",
    "    x=(adata.obs.num_umis_mt / adata.obs.num_umis),\n",
    "    bins=np.arange(start=0, stop=1, step=0.05),\n",
    "    color='#707C74'\n",
    ")\n",
    "\n",
    "ax.set_xlim(left=0, right=1)\n",
    "\n",
    "ax.tick_params(\n",
    "    axis='both',\n",
    "    which='major',\n",
    "    direction='out',\n",
    "    width=0.8,\n",
    "    labelsize=7,\n",
    "    labelcolor='black',\n",
    "    colors='#333333'\n",
    ")\n",
    "\n",
    "ax.set_xticks(\n",
    "    ticks=[i / 10 for i in np.linspace(start=0, stop=10, num=11, endpoint=True)])\n",
    "ax.set_xticklabels(labels=['{:,.0%}'.format(i) for i in ax.get_xticks()])\n",
    "\n",
    "for i in ['top', 'bottom', 'left', 'right']:\n",
    "    ax.spines[i].set_visible(b=True)\n",
    "    ax.spines[i].set_linewidth(w=0.5)\n",
    "    ax.spines[i].set_color(c='grey')\n",
    "\n",
    "ax.text(\n",
    "    x=0.95,\n",
    "    y=0.9,\n",
    "    s=f'Number of total cells: {adata.n_obs}',\n",
    "    fontsize=7,\n",
    "    horizontalalignment='right',\n",
    "    verticalalignment='center',\n",
    "    transform=ax.transAxes\n",
    ")\n",
    "# ax.set_title(label=f'Number of total cells: {adata.n_obs}', fontsize=8, loc='right')\n",
    "\n",
    "ax.text(\n",
    "    x=0.95,\n",
    "    y=0.1,\n",
    "    s=f'MT % <= 20%: {sum((adata.obs.num_umis_mt / adata.obs.num_umis) <= 0.2)}',\n",
    "    fontsize=7,\n",
    "    horizontalalignment='right',\n",
    "    verticalalignment='center',\n",
    "    transform=ax.transAxes\n",
    ")\n",
    "\n",
    "ax.set_xlabel('Percentage of MT UMI counts', fontsize=8)\n",
    "ax.set_ylabel('Number of cells', fontsize=8)"
   ]
  },
  {
   "cell_type": "code",
   "execution_count": 24,
   "metadata": {},
   "outputs": [],
   "source": [
    "file_name = 'Pyplot_barplot_umis_mt_percentage.pdf'\n",
    "\n",
    "if not Path(file_name).is_file():\n",
    "    fig.savefig(fname=file_name, transparent=True, bbox_inches='tight')"
   ]
  },
  {
   "cell_type": "code",
   "execution_count": null,
   "metadata": {},
   "outputs": [],
   "source": []
  },
  {
   "cell_type": "code",
   "execution_count": 25,
   "metadata": {},
   "outputs": [
    {
     "data": {
      "text/plain": [
       "89773"
      ]
     },
     "execution_count": 25,
     "metadata": {},
     "output_type": "execute_result"
    }
   ],
   "source": [
    "sum(adata.obs['num_umis_mt'] / adata.obs['num_umis'] <= 0.2)"
   ]
  },
  {
   "cell_type": "code",
   "execution_count": 26,
   "metadata": {},
   "outputs": [
    {
     "data": {
      "text/plain": [
       "View of AnnData object with n_obs × n_vars = 89773 × 27998\n",
       "    obs: 'cell', 'batch', 'num_umis', 'num_features', 'num_umis_mt'\n",
       "    var: 'feature', 'symbol'"
      ]
     },
     "execution_count": 26,
     "metadata": {},
     "output_type": "execute_result"
    }
   ],
   "source": [
    "adata[adata.obs['num_umis_mt'] / adata.obs['num_umis'] <= 0.2, :]"
   ]
  },
  {
   "cell_type": "code",
   "execution_count": 27,
   "metadata": {},
   "outputs": [
    {
     "data": {
      "text/plain": [
       "SRR10480618    9924\n",
       "SRR10480626    8543\n",
       "SRR10480623    8067\n",
       "SRR10480622    8058\n",
       "SRR10480628    8009\n",
       "SRR10480620    7924\n",
       "SRR10480624    7549\n",
       "SRR10480621    7185\n",
       "SRR10480627    6877\n",
       "SRR10480619    6731\n",
       "SRR10480629    6621\n",
       "SRR10480625    5104\n",
       "Name: batch, dtype: int64"
      ]
     },
     "execution_count": 27,
     "metadata": {},
     "output_type": "execute_result"
    }
   ],
   "source": [
    "adata.obs['batch'].value_counts()"
   ]
  },
  {
   "cell_type": "code",
   "execution_count": 28,
   "metadata": {},
   "outputs": [
    {
     "data": {
      "text/plain": [
       "SRR10480618    9874\n",
       "SRR10480626    8482\n",
       "SRR10480622    8044\n",
       "SRR10480623    7994\n",
       "SRR10480628    7915\n",
       "SRR10480620    7894\n",
       "SRR10480624    7534\n",
       "SRR10480621    6989\n",
       "SRR10480627    6852\n",
       "SRR10480619    6662\n",
       "SRR10480629    6468\n",
       "SRR10480625    5065\n",
       "Name: batch, dtype: int64"
      ]
     },
     "execution_count": 28,
     "metadata": {},
     "output_type": "execute_result"
    }
   ],
   "source": [
    "adata.obs.loc[adata.obs['num_umis_mt'] /\n",
    "              adata.obs['num_umis'] <= 0.2, 'batch'].value_counts()"
   ]
  },
  {
   "cell_type": "code",
   "execution_count": null,
   "metadata": {},
   "outputs": [],
   "source": []
  },
  {
   "cell_type": "markdown",
   "metadata": {},
   "source": [
    "## Saving filtered matrix"
   ]
  },
  {
   "cell_type": "code",
   "execution_count": 29,
   "metadata": {},
   "outputs": [],
   "source": [
    "if not Path('matrix_readcount.npz').is_file():\n",
    "    scipy.sparse.save_npz(\n",
    "        file='matrix_readcount.npz',\n",
    "        matrix=adata[adata.obs['num_umis_mt'] /\n",
    "                     adata.obs['num_umis'] <= 0.2, :].X.T.astype(dtype=np.int_),\n",
    "        compressed=True\n",
    "    )\n",
    "\n",
    "if not Path('matrix_readcount_barcodes.npy').is_file():\n",
    "    np.save(\n",
    "        file='matrix_readcount_barcodes.npy',\n",
    "        arr=adata[adata.obs['num_umis_mt'] / adata.obs['num_umis']\n",
    "                  <= 0.2, :].obs.index.values.astype(dtype=np.unicode_),\n",
    "        allow_pickle=False\n",
    "    )\n",
    "\n",
    "if not Path('matrix_readcount_features.npy').is_file():\n",
    "    np.save(\n",
    "        file='matrix_readcount_features.npy',\n",
    "        arr=adata[adata.obs['num_umis_mt'] / adata.obs['num_umis']\n",
    "                  <= 0.2, :].var.index.values.astype(dtype=np.unicode_),\n",
    "        allow_pickle=False\n",
    "    )"
   ]
  },
  {
   "cell_type": "code",
   "execution_count": null,
   "metadata": {},
   "outputs": [],
   "source": []
  },
  {
   "cell_type": "markdown",
   "metadata": {},
   "source": [
    "# Checking"
   ]
  },
  {
   "cell_type": "code",
   "execution_count": 30,
   "metadata": {},
   "outputs": [],
   "source": [
    "DATA_DIR = Path('.')"
   ]
  },
  {
   "cell_type": "code",
   "execution_count": 31,
   "metadata": {},
   "outputs": [],
   "source": [
    "matrix_readcount_use = scipy.sparse.load_npz(\n",
    "    file=DATA_DIR / 'matrix_readcount.npz')\n",
    "\n",
    "matrix_readcount_use_barcodes = np.load(\n",
    "    file=DATA_DIR / 'matrix_readcount_barcodes.npy')\n",
    "\n",
    "matrix_readcount_use_features = np.load(\n",
    "    file=DATA_DIR / 'matrix_readcount_features.npy')"
   ]
  },
  {
   "cell_type": "code",
   "execution_count": 32,
   "metadata": {},
   "outputs": [],
   "source": [
    "assert matrix_readcount_use.shape == (\n",
    "    len(matrix_readcount_use_features),\n",
    "    len(matrix_readcount_use_barcodes),\n",
    ")"
   ]
  },
  {
   "cell_type": "code",
   "execution_count": 33,
   "metadata": {},
   "outputs": [
    {
     "data": {
      "text/plain": [
       "((27998, 89773), (27998, 89773))"
      ]
     },
     "execution_count": 33,
     "metadata": {},
     "output_type": "execute_result"
    }
   ],
   "source": [
    "matrix_readcount_use.shape, (\n",
    "    len(matrix_readcount_use_features),\n",
    "    len(matrix_readcount_use_barcodes),\n",
    ")"
   ]
  },
  {
   "cell_type": "code",
   "execution_count": 34,
   "metadata": {},
   "outputs": [
    {
     "data": {
      "text/plain": [
       "SRR10480618    9874\n",
       "SRR10480619    6662\n",
       "SRR10480620    7894\n",
       "SRR10480621    6989\n",
       "SRR10480622    8044\n",
       "SRR10480623    7994\n",
       "SRR10480624    7534\n",
       "SRR10480625    5065\n",
       "SRR10480626    8482\n",
       "SRR10480627    6852\n",
       "SRR10480628    7915\n",
       "SRR10480629    6468\n",
       "dtype: int64"
      ]
     },
     "execution_count": 34,
     "metadata": {},
     "output_type": "execute_result"
    }
   ],
   "source": [
    "pd.Series(\n",
    "    [re.sub('_[A-Z]{16}$', '', i) for i in matrix_readcount_use_barcodes]\n",
    ").value_counts().sort_index()"
   ]
  },
  {
   "cell_type": "code",
   "execution_count": null,
   "metadata": {},
   "outputs": [],
   "source": []
  },
  {
   "cell_type": "code",
   "execution_count": null,
   "metadata": {},
   "outputs": [],
   "source": []
  },
  {
   "cell_type": "code",
   "execution_count": null,
   "metadata": {},
   "outputs": [],
   "source": []
  },
  {
   "cell_type": "code",
   "execution_count": null,
   "metadata": {},
   "outputs": [],
   "source": []
  },
  {
   "cell_type": "code",
   "execution_count": null,
   "metadata": {},
   "outputs": [],
   "source": []
  },
  {
   "cell_type": "code",
   "execution_count": null,
   "metadata": {},
   "outputs": [],
   "source": []
  },
  {
   "cell_type": "code",
   "execution_count": null,
   "metadata": {},
   "outputs": [],
   "source": []
  },
  {
   "cell_type": "code",
   "execution_count": null,
   "metadata": {},
   "outputs": [],
   "source": []
  },
  {
   "cell_type": "code",
   "execution_count": null,
   "metadata": {},
   "outputs": [],
   "source": []
  },
  {
   "cell_type": "code",
   "execution_count": null,
   "metadata": {},
   "outputs": [],
   "source": []
  },
  {
   "cell_type": "code",
   "execution_count": null,
   "metadata": {},
   "outputs": [],
   "source": []
  }
 ],
 "metadata": {
  "kernelspec": {
   "display_name": "Python 3",
   "language": "python",
   "name": "python3"
  },
  "language_info": {
   "codemirror_mode": {
    "name": "ipython",
    "version": 3
   },
   "file_extension": ".py",
   "mimetype": "text/x-python",
   "name": "python",
   "nbconvert_exporter": "python",
   "pygments_lexer": "ipython3",
   "version": "3.8.2"
  },
  "toc-autonumbering": true
 },
 "nbformat": 4,
 "nbformat_minor": 4
}
